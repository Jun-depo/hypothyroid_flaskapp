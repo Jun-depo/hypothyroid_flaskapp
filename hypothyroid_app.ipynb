{
 "cells": [
  {
   "cell_type": "code",
   "execution_count": 1,
   "metadata": {},
   "outputs": [],
   "source": [
    "import numpy as np\n",
    "import pandas as pd\n",
    "import matplotlib.pyplot as plt\n",
    "%matplotlib inline"
   ]
  },
  {
   "cell_type": "code",
   "execution_count": 2,
   "metadata": {},
   "outputs": [],
   "source": [
    "from sklearn.model_selection import train_test_split\n",
    "from sklearn.neural_network import MLPClassifier\n",
    "from sklearn.metrics import classification_report"
   ]
  },
  {
   "cell_type": "code",
   "execution_count": 3,
   "metadata": {},
   "outputs": [],
   "source": [
    "from sklearn.externals import joblib\n",
    "from classification_report_dataframe import classification_report_df, f1_score_class_1_2"
   ]
  },
  {
   "cell_type": "code",
   "execution_count": 4,
   "metadata": {},
   "outputs": [],
   "source": [
    "scale_max = pd.read_csv('hypodata_max_for_scaling.csv')"
   ]
  },
  {
   "cell_type": "code",
   "execution_count": 5,
   "metadata": {},
   "outputs": [
    {
     "data": {
      "text/html": [
       "<div>\n",
       "<style scoped>\n",
       "    .dataframe tbody tr th:only-of-type {\n",
       "        vertical-align: middle;\n",
       "    }\n",
       "\n",
       "    .dataframe tbody tr th {\n",
       "        vertical-align: top;\n",
       "    }\n",
       "\n",
       "    .dataframe thead th {\n",
       "        text-align: right;\n",
       "    }\n",
       "</style>\n",
       "<table border=\"1\" class=\"dataframe\">\n",
       "  <thead>\n",
       "    <tr style=\"text-align: right;\">\n",
       "      <th></th>\n",
       "      <th>age</th>\n",
       "      <th>TSH</th>\n",
       "      <th>T3</th>\n",
       "      <th>TT4</th>\n",
       "      <th>T4U</th>\n",
       "      <th>FTI</th>\n",
       "    </tr>\n",
       "  </thead>\n",
       "  <tbody>\n",
       "    <tr>\n",
       "      <th>0</th>\n",
       "      <td>94.0</td>\n",
       "      <td>478.0</td>\n",
       "      <td>10.6</td>\n",
       "      <td>430.0</td>\n",
       "      <td>2.12</td>\n",
       "      <td>395.0</td>\n",
       "    </tr>\n",
       "  </tbody>\n",
       "</table>\n",
       "</div>"
      ],
      "text/plain": [
       "    age    TSH    T3    TT4   T4U    FTI\n",
       "0  94.0  478.0  10.6  430.0  2.12  395.0"
      ]
     },
     "execution_count": 5,
     "metadata": {},
     "output_type": "execute_result"
    }
   ],
   "source": [
    "scale_max"
   ]
  },
  {
   "cell_type": "code",
   "execution_count": 6,
   "metadata": {},
   "outputs": [
    {
     "data": {
      "text/plain": [
       "array([[ 94.  , 478.  ,  10.6 , 430.  ,   2.12, 395.  ]])"
      ]
     },
     "execution_count": 6,
     "metadata": {},
     "output_type": "execute_result"
    }
   ],
   "source": [
    "scale_max.values"
   ]
  },
  {
   "cell_type": "code",
   "execution_count": 7,
   "metadata": {},
   "outputs": [],
   "source": [
    "a = [[ 94.0, 478.0, 10.6,  430.1,  2.12, 395.0 ], \n",
    "     [ 94.0, 478.0, 10.6,  430.1,  2.12, 395.0 ]]\n",
    "arr = np.array(a).reshape(-1, 6)"
   ]
  },
  {
   "cell_type": "code",
   "execution_count": 8,
   "metadata": {},
   "outputs": [
    {
     "data": {
      "text/plain": [
       "2"
      ]
     },
     "execution_count": 8,
     "metadata": {},
     "output_type": "execute_result"
    }
   ],
   "source": [
    "len(arr)"
   ]
  },
  {
   "cell_type": "code",
   "execution_count": 9,
   "metadata": {},
   "outputs": [
    {
     "data": {
      "text/plain": [
       "array([[ 94.  , 478.  ,  10.6 , 430.1 ,   2.12, 395.  ],\n",
       "       [ 94.  , 478.  ,  10.6 , 430.1 ,   2.12, 395.  ]])"
      ]
     },
     "execution_count": 9,
     "metadata": {},
     "output_type": "execute_result"
    }
   ],
   "source": [
    "arr"
   ]
  },
  {
   "cell_type": "code",
   "execution_count": 10,
   "metadata": {},
   "outputs": [],
   "source": [
    "# scale_min = pd.read_csv('hypodata_min_for_scaling.csv')"
   ]
  },
  {
   "cell_type": "code",
   "execution_count": 11,
   "metadata": {},
   "outputs": [],
   "source": [
    "df_test = pd.read_csv(\"hypotest_numeric.csv\", encoding='utf-8')"
   ]
  },
  {
   "cell_type": "code",
   "execution_count": 12,
   "metadata": {},
   "outputs": [
    {
     "data": {
      "text/html": [
       "<div>\n",
       "<style scoped>\n",
       "    .dataframe tbody tr th:only-of-type {\n",
       "        vertical-align: middle;\n",
       "    }\n",
       "\n",
       "    .dataframe tbody tr th {\n",
       "        vertical-align: top;\n",
       "    }\n",
       "\n",
       "    .dataframe thead th {\n",
       "        text-align: right;\n",
       "    }\n",
       "</style>\n",
       "<table border=\"1\" class=\"dataframe\">\n",
       "  <thead>\n",
       "    <tr style=\"text-align: right;\">\n",
       "      <th></th>\n",
       "      <th>age</th>\n",
       "      <th>TSH</th>\n",
       "      <th>T3</th>\n",
       "      <th>TT4</th>\n",
       "      <th>T4U</th>\n",
       "      <th>FTI</th>\n",
       "      <th>classes</th>\n",
       "    </tr>\n",
       "  </thead>\n",
       "  <tbody>\n",
       "    <tr>\n",
       "      <th>0</th>\n",
       "      <td>35.0</td>\n",
       "      <td>4.672</td>\n",
       "      <td>2.025</td>\n",
       "      <td>109.072</td>\n",
       "      <td>0.998</td>\n",
       "      <td>110.788</td>\n",
       "      <td>0</td>\n",
       "    </tr>\n",
       "    <tr>\n",
       "      <th>1</th>\n",
       "      <td>63.0</td>\n",
       "      <td>3.500</td>\n",
       "      <td>2.500</td>\n",
       "      <td>108.000</td>\n",
       "      <td>0.960</td>\n",
       "      <td>113.000</td>\n",
       "      <td>0</td>\n",
       "    </tr>\n",
       "    <tr>\n",
       "      <th>2</th>\n",
       "      <td>25.0</td>\n",
       "      <td>4.600</td>\n",
       "      <td>2.400</td>\n",
       "      <td>61.000</td>\n",
       "      <td>0.820</td>\n",
       "      <td>75.000</td>\n",
       "      <td>0</td>\n",
       "    </tr>\n",
       "    <tr>\n",
       "      <th>3</th>\n",
       "      <td>53.0</td>\n",
       "      <td>0.250</td>\n",
       "      <td>2.100</td>\n",
       "      <td>145.000</td>\n",
       "      <td>1.030</td>\n",
       "      <td>141.000</td>\n",
       "      <td>0</td>\n",
       "    </tr>\n",
       "    <tr>\n",
       "      <th>4</th>\n",
       "      <td>92.0</td>\n",
       "      <td>0.700</td>\n",
       "      <td>1.300</td>\n",
       "      <td>120.000</td>\n",
       "      <td>0.840</td>\n",
       "      <td>143.000</td>\n",
       "      <td>0</td>\n",
       "    </tr>\n",
       "  </tbody>\n",
       "</table>\n",
       "</div>"
      ],
      "text/plain": [
       "    age    TSH     T3      TT4    T4U      FTI  classes\n",
       "0  35.0  4.672  2.025  109.072  0.998  110.788        0\n",
       "1  63.0  3.500  2.500  108.000  0.960  113.000        0\n",
       "2  25.0  4.600  2.400   61.000  0.820   75.000        0\n",
       "3  53.0  0.250  2.100  145.000  1.030  141.000        0\n",
       "4  92.0  0.700  1.300  120.000  0.840  143.000        0"
      ]
     },
     "execution_count": 12,
     "metadata": {},
     "output_type": "execute_result"
    }
   ],
   "source": [
    "df_test.head()"
   ]
  },
  {
   "cell_type": "code",
   "execution_count": 13,
   "metadata": {},
   "outputs": [
    {
     "data": {
      "text/plain": [
       "Index(['age', 'TSH', 'T3', 'TT4', 'T4U', 'FTI', 'classes'], dtype='object')"
      ]
     },
     "execution_count": 13,
     "metadata": {},
     "output_type": "execute_result"
    }
   ],
   "source": [
    "df_test.columns"
   ]
  },
  {
   "cell_type": "code",
   "execution_count": 14,
   "metadata": {},
   "outputs": [],
   "source": [
    "X_test = df_test[['age', 'TSH', 'T3', 'TT4', 'T4U', 'FTI']]"
   ]
  },
  {
   "cell_type": "code",
   "execution_count": 15,
   "metadata": {},
   "outputs": [
    {
     "data": {
      "text/html": [
       "<div>\n",
       "<style scoped>\n",
       "    .dataframe tbody tr th:only-of-type {\n",
       "        vertical-align: middle;\n",
       "    }\n",
       "\n",
       "    .dataframe tbody tr th {\n",
       "        vertical-align: top;\n",
       "    }\n",
       "\n",
       "    .dataframe thead th {\n",
       "        text-align: right;\n",
       "    }\n",
       "</style>\n",
       "<table border=\"1\" class=\"dataframe\">\n",
       "  <thead>\n",
       "    <tr style=\"text-align: right;\">\n",
       "      <th></th>\n",
       "      <th>age</th>\n",
       "      <th>TSH</th>\n",
       "      <th>T3</th>\n",
       "      <th>TT4</th>\n",
       "      <th>T4U</th>\n",
       "      <th>FTI</th>\n",
       "    </tr>\n",
       "  </thead>\n",
       "  <tbody>\n",
       "    <tr>\n",
       "      <th>0</th>\n",
       "      <td>35.0</td>\n",
       "      <td>4.672</td>\n",
       "      <td>2.025</td>\n",
       "      <td>109.072</td>\n",
       "      <td>0.998</td>\n",
       "      <td>110.788</td>\n",
       "    </tr>\n",
       "    <tr>\n",
       "      <th>1</th>\n",
       "      <td>63.0</td>\n",
       "      <td>3.500</td>\n",
       "      <td>2.500</td>\n",
       "      <td>108.000</td>\n",
       "      <td>0.960</td>\n",
       "      <td>113.000</td>\n",
       "    </tr>\n",
       "    <tr>\n",
       "      <th>2</th>\n",
       "      <td>25.0</td>\n",
       "      <td>4.600</td>\n",
       "      <td>2.400</td>\n",
       "      <td>61.000</td>\n",
       "      <td>0.820</td>\n",
       "      <td>75.000</td>\n",
       "    </tr>\n",
       "    <tr>\n",
       "      <th>3</th>\n",
       "      <td>53.0</td>\n",
       "      <td>0.250</td>\n",
       "      <td>2.100</td>\n",
       "      <td>145.000</td>\n",
       "      <td>1.030</td>\n",
       "      <td>141.000</td>\n",
       "    </tr>\n",
       "    <tr>\n",
       "      <th>4</th>\n",
       "      <td>92.0</td>\n",
       "      <td>0.700</td>\n",
       "      <td>1.300</td>\n",
       "      <td>120.000</td>\n",
       "      <td>0.840</td>\n",
       "      <td>143.000</td>\n",
       "    </tr>\n",
       "  </tbody>\n",
       "</table>\n",
       "</div>"
      ],
      "text/plain": [
       "    age    TSH     T3      TT4    T4U      FTI\n",
       "0  35.0  4.672  2.025  109.072  0.998  110.788\n",
       "1  63.0  3.500  2.500  108.000  0.960  113.000\n",
       "2  25.0  4.600  2.400   61.000  0.820   75.000\n",
       "3  53.0  0.250  2.100  145.000  1.030  141.000\n",
       "4  92.0  0.700  1.300  120.000  0.840  143.000"
      ]
     },
     "execution_count": 15,
     "metadata": {},
     "output_type": "execute_result"
    }
   ],
   "source": [
    "X_test.head()"
   ]
  },
  {
   "cell_type": "code",
   "execution_count": 16,
   "metadata": {},
   "outputs": [],
   "source": [
    "data1 = [{\"age\": 35.0, \"TSH\": 4.672, \"T3\": 2.025, \"TT4\": 109.072, \"T4U\": 0.998, \"FTI\": 110.788}, \n",
    "                  {\"age\": 63.0, \"TSH\": 3.500, \"T3\": 2.500, \"TT4\": 108.000, \"T4U\": 0.960, \"FTI\": 113.000}]"
   ]
  },
  {
   "cell_type": "code",
   "execution_count": 17,
   "metadata": {},
   "outputs": [],
   "source": [
    "dict1 = {\"age\": 35.0, \"TSH\": 4.672, \"T3\": 2.025, \"TT4\": 109.072, \"T4U\": 0.998, \"FTI\": 110.788}"
   ]
  },
  {
   "cell_type": "code",
   "execution_count": 18,
   "metadata": {},
   "outputs": [],
   "source": [
    "hypothyroid_classes = {0: 'No hypothyroid disease', \n",
    "                       1: 'Primary hypothyroid',\n",
    "                        2: 'Compensated hypothyroid',\n",
    "                       3: 'Secondary hypothyroid'}"
   ]
  },
  {
   "cell_type": "code",
   "execution_count": 19,
   "metadata": {},
   "outputs": [],
   "source": [
    "def hypothyroid_pred(data_lst):  \n",
    "    scale_max = pd.read_csv('hypodata_max_for_scaling.csv')\n",
    "    scale_min = pd.read_csv('hypodata_min_for_scaling.csv')\n",
    "    model = joblib.load(\"neural_network_numeric_data_model3.pkl\")\n",
    "    y_classes = {'negative': 0, \n",
    "           'primary hypothyroid': 1,\n",
    "            'compensated hypothyroid':2,\n",
    "           'secondary hypothyroid': 3 }  \n",
    "    data_arr = pd.DataFrame(data_lst).values\n",
    "    d_scaled = (data_arr-scale_min.values)/(scale_max.values-scale_min.values)\n",
    "    pred1 = model.predict(d_scaled) \n",
    "    for i in pred1:\n",
    "        print(hypothyroid_classes[i])\n",
    "    return pred1"
   ]
  },
  {
   "cell_type": "code",
   "execution_count": 20,
   "metadata": {},
   "outputs": [
    {
     "name": "stdout",
     "output_type": "stream",
     "text": [
      "No hypothyroid disease\n",
      "No hypothyroid disease\n"
     ]
    },
    {
     "data": {
      "text/plain": [
       "array([0, 0])"
      ]
     },
     "execution_count": 20,
     "metadata": {},
     "output_type": "execute_result"
    }
   ],
   "source": [
    "hypothyroid_pred(data1)"
   ]
  },
  {
   "cell_type": "code",
   "execution_count": 21,
   "metadata": {},
   "outputs": [],
   "source": [
    "def hypothyroid_pred_app(data_lst):\n",
    "    scale_max = pd.read_csv('hypodata_max_for_scaling.csv')\n",
    "    scale_min = pd.read_csv('hypodata_min_for_scaling.csv')\n",
    "    model = joblib.load(\"neural_network_numeric_data_model3.pkl\")\n",
    "    hypothyroid_classes = {0: 'No hypothyroid disease',\n",
    "           1: 'primary hypothyroid',\n",
    "           2: 'compensated hypothyroid',\n",
    "           3: 'secondary hypothyroid'}\n",
    "    data_arr = np.array(data_lst).reshape(-1,6)\n",
    "    d_scaled = (data_arr-scale_min.values)/(scale_max.values-scale_min.values)\n",
    "    pred1 = model.predict(d_scaled)\n",
    "    \n",
    "    for i in pred1:\n",
    "        print(hypothyroid_classes[i])\n",
    "    return pred1"
   ]
  },
  {
   "cell_type": "code",
   "execution_count": 22,
   "metadata": {},
   "outputs": [
    {
     "name": "stdout",
     "output_type": "stream",
     "text": [
      "No hypothyroid disease\n"
     ]
    },
    {
     "data": {
      "text/plain": [
       "array([0])"
      ]
     },
     "execution_count": 22,
     "metadata": {},
     "output_type": "execute_result"
    }
   ],
   "source": [
    "hypothyroid_pred_app([35.0, 4.672, 2.025, 109.072, 0.998, 110.788])"
   ]
  },
  {
   "cell_type": "code",
   "execution_count": 23,
   "metadata": {},
   "outputs": [
    {
     "data": {
      "text/plain": [
       "array([[110.788,   2.025,   0.998,   4.672, 109.072,  35.   ],\n",
       "       [113.   ,   2.5  ,   0.96 ,   3.5  , 108.   ,  63.   ]])"
      ]
     },
     "execution_count": 23,
     "metadata": {},
     "output_type": "execute_result"
    }
   ],
   "source": [
    "pd.DataFrame(data1).values"
   ]
  },
  {
   "cell_type": "code",
   "execution_count": 24,
   "metadata": {},
   "outputs": [
    {
     "data": {
      "text/html": [
       "<div>\n",
       "<style scoped>\n",
       "    .dataframe tbody tr th:only-of-type {\n",
       "        vertical-align: middle;\n",
       "    }\n",
       "\n",
       "    .dataframe tbody tr th {\n",
       "        vertical-align: top;\n",
       "    }\n",
       "\n",
       "    .dataframe thead th {\n",
       "        text-align: right;\n",
       "    }\n",
       "</style>\n",
       "<table border=\"1\" class=\"dataframe\">\n",
       "  <thead>\n",
       "    <tr style=\"text-align: right;\">\n",
       "      <th></th>\n",
       "      <th>FTI</th>\n",
       "      <th>T3</th>\n",
       "      <th>T4U</th>\n",
       "      <th>TSH</th>\n",
       "      <th>TT4</th>\n",
       "      <th>age</th>\n",
       "    </tr>\n",
       "  </thead>\n",
       "  <tbody>\n",
       "    <tr>\n",
       "      <th>0</th>\n",
       "      <td>110.788</td>\n",
       "      <td>2.025</td>\n",
       "      <td>0.998</td>\n",
       "      <td>4.672</td>\n",
       "      <td>109.072</td>\n",
       "      <td>35.0</td>\n",
       "    </tr>\n",
       "  </tbody>\n",
       "</table>\n",
       "</div>"
      ],
      "text/plain": [
       "       FTI     T3    T4U    TSH      TT4   age\n",
       "0  110.788  2.025  0.998  4.672  109.072  35.0"
      ]
     },
     "execution_count": 24,
     "metadata": {},
     "output_type": "execute_result"
    }
   ],
   "source": [
    "pd.DataFrame([dict1])"
   ]
  },
  {
   "cell_type": "code",
   "execution_count": 25,
   "metadata": {},
   "outputs": [],
   "source": [
    "data2 = df_test.loc[:, ['age', 'TSH', 'T3', 'TT4', 'T4U', 'FTI']]"
   ]
  },
  {
   "cell_type": "code",
   "execution_count": 26,
   "metadata": {},
   "outputs": [
    {
     "data": {
      "text/html": [
       "<div>\n",
       "<style scoped>\n",
       "    .dataframe tbody tr th:only-of-type {\n",
       "        vertical-align: middle;\n",
       "    }\n",
       "\n",
       "    .dataframe tbody tr th {\n",
       "        vertical-align: top;\n",
       "    }\n",
       "\n",
       "    .dataframe thead th {\n",
       "        text-align: right;\n",
       "    }\n",
       "</style>\n",
       "<table border=\"1\" class=\"dataframe\">\n",
       "  <thead>\n",
       "    <tr style=\"text-align: right;\">\n",
       "      <th></th>\n",
       "      <th>age</th>\n",
       "      <th>TSH</th>\n",
       "      <th>T3</th>\n",
       "      <th>TT4</th>\n",
       "      <th>T4U</th>\n",
       "      <th>FTI</th>\n",
       "    </tr>\n",
       "  </thead>\n",
       "  <tbody>\n",
       "    <tr>\n",
       "      <th>0</th>\n",
       "      <td>35.0</td>\n",
       "      <td>4.672</td>\n",
       "      <td>2.025</td>\n",
       "      <td>109.072</td>\n",
       "      <td>0.998</td>\n",
       "      <td>110.788</td>\n",
       "    </tr>\n",
       "    <tr>\n",
       "      <th>1</th>\n",
       "      <td>63.0</td>\n",
       "      <td>3.500</td>\n",
       "      <td>2.500</td>\n",
       "      <td>108.000</td>\n",
       "      <td>0.960</td>\n",
       "      <td>113.000</td>\n",
       "    </tr>\n",
       "    <tr>\n",
       "      <th>2</th>\n",
       "      <td>25.0</td>\n",
       "      <td>4.600</td>\n",
       "      <td>2.400</td>\n",
       "      <td>61.000</td>\n",
       "      <td>0.820</td>\n",
       "      <td>75.000</td>\n",
       "    </tr>\n",
       "    <tr>\n",
       "      <th>3</th>\n",
       "      <td>53.0</td>\n",
       "      <td>0.250</td>\n",
       "      <td>2.100</td>\n",
       "      <td>145.000</td>\n",
       "      <td>1.030</td>\n",
       "      <td>141.000</td>\n",
       "    </tr>\n",
       "    <tr>\n",
       "      <th>4</th>\n",
       "      <td>92.0</td>\n",
       "      <td>0.700</td>\n",
       "      <td>1.300</td>\n",
       "      <td>120.000</td>\n",
       "      <td>0.840</td>\n",
       "      <td>143.000</td>\n",
       "    </tr>\n",
       "    <tr>\n",
       "      <th>5</th>\n",
       "      <td>67.0</td>\n",
       "      <td>0.810</td>\n",
       "      <td>2.025</td>\n",
       "      <td>84.000</td>\n",
       "      <td>0.830</td>\n",
       "      <td>101.000</td>\n",
       "    </tr>\n",
       "    <tr>\n",
       "      <th>6</th>\n",
       "      <td>60.0</td>\n",
       "      <td>1.200</td>\n",
       "      <td>2.600</td>\n",
       "      <td>117.000</td>\n",
       "      <td>1.310</td>\n",
       "      <td>90.000</td>\n",
       "    </tr>\n",
       "    <tr>\n",
       "      <th>7</th>\n",
       "      <td>60.0</td>\n",
       "      <td>27.000</td>\n",
       "      <td>1.800</td>\n",
       "      <td>65.000</td>\n",
       "      <td>0.990</td>\n",
       "      <td>66.000</td>\n",
       "    </tr>\n",
       "    <tr>\n",
       "      <th>8</th>\n",
       "      <td>48.0</td>\n",
       "      <td>2.800</td>\n",
       "      <td>2.025</td>\n",
       "      <td>112.000</td>\n",
       "      <td>0.920</td>\n",
       "      <td>121.000</td>\n",
       "    </tr>\n",
       "    <tr>\n",
       "      <th>9</th>\n",
       "      <td>27.0</td>\n",
       "      <td>2.600</td>\n",
       "      <td>2.200</td>\n",
       "      <td>94.000</td>\n",
       "      <td>0.890</td>\n",
       "      <td>106.000</td>\n",
       "    </tr>\n",
       "    <tr>\n",
       "      <th>10</th>\n",
       "      <td>73.0</td>\n",
       "      <td>4.400</td>\n",
       "      <td>1.200</td>\n",
       "      <td>95.000</td>\n",
       "      <td>1.110</td>\n",
       "      <td>85.000</td>\n",
       "    </tr>\n",
       "    <tr>\n",
       "      <th>11</th>\n",
       "      <td>19.0</td>\n",
       "      <td>3.100</td>\n",
       "      <td>2.800</td>\n",
       "      <td>131.000</td>\n",
       "      <td>0.950</td>\n",
       "      <td>138.000</td>\n",
       "    </tr>\n",
       "    <tr>\n",
       "      <th>12</th>\n",
       "      <td>72.0</td>\n",
       "      <td>1.100</td>\n",
       "      <td>2.025</td>\n",
       "      <td>131.000</td>\n",
       "      <td>0.500</td>\n",
       "      <td>265.000</td>\n",
       "    </tr>\n",
       "    <tr>\n",
       "      <th>13</th>\n",
       "      <td>16.0</td>\n",
       "      <td>4.500</td>\n",
       "      <td>2.025</td>\n",
       "      <td>109.072</td>\n",
       "      <td>0.998</td>\n",
       "      <td>110.788</td>\n",
       "    </tr>\n",
       "    <tr>\n",
       "      <th>14</th>\n",
       "      <td>54.0</td>\n",
       "      <td>0.140</td>\n",
       "      <td>3.400</td>\n",
       "      <td>105.000</td>\n",
       "      <td>0.998</td>\n",
       "      <td>110.788</td>\n",
       "    </tr>\n",
       "    <tr>\n",
       "      <th>15</th>\n",
       "      <td>39.0</td>\n",
       "      <td>0.060</td>\n",
       "      <td>2.400</td>\n",
       "      <td>148.000</td>\n",
       "      <td>1.070</td>\n",
       "      <td>138.000</td>\n",
       "    </tr>\n",
       "    <tr>\n",
       "      <th>16</th>\n",
       "      <td>38.0</td>\n",
       "      <td>1.100</td>\n",
       "      <td>2.200</td>\n",
       "      <td>145.000</td>\n",
       "      <td>1.230</td>\n",
       "      <td>118.000</td>\n",
       "    </tr>\n",
       "    <tr>\n",
       "      <th>17</th>\n",
       "      <td>33.0</td>\n",
       "      <td>4.672</td>\n",
       "      <td>2.025</td>\n",
       "      <td>109.072</td>\n",
       "      <td>0.998</td>\n",
       "      <td>110.788</td>\n",
       "    </tr>\n",
       "    <tr>\n",
       "      <th>18</th>\n",
       "      <td>45.0</td>\n",
       "      <td>7.400</td>\n",
       "      <td>1.400</td>\n",
       "      <td>108.000</td>\n",
       "      <td>1.080</td>\n",
       "      <td>100.000</td>\n",
       "    </tr>\n",
       "    <tr>\n",
       "      <th>19</th>\n",
       "      <td>54.0</td>\n",
       "      <td>1.200</td>\n",
       "      <td>1.700</td>\n",
       "      <td>81.000</td>\n",
       "      <td>0.870</td>\n",
       "      <td>94.000</td>\n",
       "    </tr>\n",
       "  </tbody>\n",
       "</table>\n",
       "</div>"
      ],
      "text/plain": [
       "     age     TSH     T3      TT4    T4U      FTI\n",
       "0   35.0   4.672  2.025  109.072  0.998  110.788\n",
       "1   63.0   3.500  2.500  108.000  0.960  113.000\n",
       "2   25.0   4.600  2.400   61.000  0.820   75.000\n",
       "3   53.0   0.250  2.100  145.000  1.030  141.000\n",
       "4   92.0   0.700  1.300  120.000  0.840  143.000\n",
       "5   67.0   0.810  2.025   84.000  0.830  101.000\n",
       "6   60.0   1.200  2.600  117.000  1.310   90.000\n",
       "7   60.0  27.000  1.800   65.000  0.990   66.000\n",
       "8   48.0   2.800  2.025  112.000  0.920  121.000\n",
       "9   27.0   2.600  2.200   94.000  0.890  106.000\n",
       "10  73.0   4.400  1.200   95.000  1.110   85.000\n",
       "11  19.0   3.100  2.800  131.000  0.950  138.000\n",
       "12  72.0   1.100  2.025  131.000  0.500  265.000\n",
       "13  16.0   4.500  2.025  109.072  0.998  110.788\n",
       "14  54.0   0.140  3.400  105.000  0.998  110.788\n",
       "15  39.0   0.060  2.400  148.000  1.070  138.000\n",
       "16  38.0   1.100  2.200  145.000  1.230  118.000\n",
       "17  33.0   4.672  2.025  109.072  0.998  110.788\n",
       "18  45.0   7.400  1.400  108.000  1.080  100.000\n",
       "19  54.0   1.200  1.700   81.000  0.870   94.000"
      ]
     },
     "execution_count": 26,
     "metadata": {},
     "output_type": "execute_result"
    }
   ],
   "source": [
    "data2.iloc[0:20]"
   ]
  },
  {
   "cell_type": "code",
   "execution_count": 27,
   "metadata": {},
   "outputs": [],
   "source": [
    "arr2 = np.array(data2.iloc[0:20].values)"
   ]
  },
  {
   "cell_type": "code",
   "execution_count": 28,
   "metadata": {},
   "outputs": [
    {
     "data": {
      "text/plain": [
       "array([60.  , 27.  ,  1.8 , 65.  ,  0.99, 66.  ])"
      ]
     },
     "execution_count": 28,
     "metadata": {},
     "output_type": "execute_result"
    }
   ],
   "source": [
    "arr2[7]"
   ]
  },
  {
   "cell_type": "code",
   "execution_count": 29,
   "metadata": {},
   "outputs": [
    {
     "name": "stdout",
     "output_type": "stream",
     "text": [
      "Compensated hypothyroid\n",
      "No hypothyroid disease\n"
     ]
    },
    {
     "data": {
      "text/plain": [
       "array([2, 0])"
      ]
     },
     "execution_count": 29,
     "metadata": {},
     "output_type": "execute_result"
    }
   ],
   "source": [
    "hypothyroid_pred(arr2[7:9].reshape(-1, 6))"
   ]
  },
  {
   "cell_type": "code",
   "execution_count": null,
   "metadata": {},
   "outputs": [],
   "source": []
  }
 ],
 "metadata": {
  "kernelspec": {
   "display_name": "Python 3",
   "language": "python",
   "name": "python3"
  },
  "language_info": {
   "codemirror_mode": {
    "name": "ipython",
    "version": 3
   },
   "file_extension": ".py",
   "mimetype": "text/x-python",
   "name": "python",
   "nbconvert_exporter": "python",
   "pygments_lexer": "ipython3",
   "version": "3.6.6"
  }
 },
 "nbformat": 4,
 "nbformat_minor": 2
}
